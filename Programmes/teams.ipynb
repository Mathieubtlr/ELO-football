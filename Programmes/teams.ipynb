{
 "cells": [
  {
   "cell_type": "code",
   "execution_count": 21,
   "id": "dc7aa708",
   "metadata": {},
   "outputs": [
    {
     "name": "stdout",
     "output_type": "stream",
     "text": [
      "Fichier Teams/teams_1997-1998_all.csv créé avec 58 équipes.\n",
      "Fichier Teams/teams_1998-1999_all.csv créé avec 57 équipes.\n",
      "Fichier Teams/teams_1999-2000_all.csv créé avec 58 équipes.\n",
      "Fichier Teams/teams_2000-2001_all.csv créé avec 58 équipes.\n",
      "Fichier Teams/teams_2001-2002_all.csv créé avec 58 équipes.\n",
      "Fichier Teams/teams_2002-2003_all.csv créé avec 60 équipes.\n",
      "Fichier Teams/teams_2003-2004_all.csv créé avec 60 équipes.\n",
      "Fichier Teams/teams_2004-2005_all.csv créé avec 60 équipes.\n",
      "Fichier Teams/teams_2005-2006_all.csv créé avec 60 équipes.\n",
      "Fichier Teams/teams_2006-2007_all.csv créé avec 60 équipes.\n",
      "Fichier Teams/teams_2007-2008_all.csv créé avec 60 équipes.\n",
      "Fichier Teams/teams_2008-2009_all.csv créé avec 60 équipes.\n",
      "Fichier Teams/teams_2009-2010_all.csv créé avec 60 équipes.\n",
      "Fichier Teams/teams_2010-2011_all.csv créé avec 61 équipes.\n",
      "Fichier Teams/teams_2011-2012_all.csv créé avec 60 équipes.\n",
      "Fichier Teams/teams_2012-2013_all.csv créé avec 60 équipes.\n",
      "Fichier Teams/teams_2013-2014_all.csv créé avec 58 équipes.\n",
      "Fichier Teams/teams_2014-2015_all.csv créé avec 58 équipes.\n",
      "Fichier Teams/teams_2015-2016_all.csv créé avec 58 équipes.\n",
      "Fichier Teams/teams_2016-2017_all.csv créé avec 58 équipes.\n",
      "Fichier Teams/teams_2017-2018_all.csv créé avec 57 équipes.\n",
      "Fichier Teams/teams_2018-2019_all.csv créé avec 58 équipes.\n",
      "Fichier Teams/teams_2019-2020_all.csv créé avec 58 équipes.\n",
      "Fichier Teams/teams_2020-2021_all.csv créé avec 58 équipes.\n",
      "Fichier Teams/teams_2021-2022_all.csv créé avec 58 équipes.\n",
      "Fichier Teams/teams_2022-2023_all.csv créé avec 58 équipes.\n",
      "Fichier Teams/teams_2023-2024_all.csv créé avec 56 équipes.\n",
      "Fichier Teams/teams_2024-2025_all.csv créé avec 53 équipes.\n",
      "Fichier Teams/teams_2025-2026_all.csv créé avec 53 équipes.\n"
     ]
    }
   ],
   "source": [
    "import csv\n",
    "\n",
    "for year in range(1997, 2026):\n",
    "    annee = str(year) + \"-\" + str(year + 1)\n",
    "\n",
    "    # nom du fichier d'entrée (tes résultats)\n",
    "    input_file = \"Résultats/\" + annee + \"_all.csv\"\n",
    "    # nom du fichier de sortie (équipes uniques)\n",
    "    output_file = \"Teams/teams_\" + annee + \"_all.csv\"\n",
    "\n",
    "    # ensemble pour éviter les doublons\n",
    "    teams = set()\n",
    "\n",
    "    # lecture du fichier CSV\n",
    "    with open(input_file, newline='', encoding=\"utf-8\") as f:\n",
    "        reader = csv.reader(f)\n",
    "        for row in reader:\n",
    "            if len(row) >= 6:\n",
    "                home_team = row[3].strip()\n",
    "                away_team = row[4].strip()\n",
    "                teams.add(home_team)\n",
    "                teams.add(away_team)\n",
    "\n",
    "    # écriture dans le nouveau fichier\n",
    "    with open(output_file, \"w\", newline='', encoding=\"utf-8\") as f:\n",
    "        writer = csv.writer(f)\n",
    "        writer.writerow([\"Equipe\"])  # en-tête\n",
    "        for team in sorted(teams):\n",
    "            writer.writerow([team])\n",
    "\n",
    "    print(f\"Fichier {output_file} créé avec {len(teams)} équipes.\")\n"
   ]
  },
  {
   "cell_type": "code",
   "execution_count": 22,
   "id": "ada90e06",
   "metadata": {},
   "outputs": [
    {
     "name": "stdout",
     "output_type": "stream",
     "text": [
      "Fichier teams_all_merged.csv créé avec 130 équipes uniques.\n"
     ]
    }
   ],
   "source": [
    "import csv\n",
    "import glob\n",
    "\n",
    "# motif des fichiers à fusionner\n",
    "input_files = glob.glob(\"Teams/teams_*_all.csv\")\n",
    "output_file = \"teams_all_merged.csv\"\n",
    "\n",
    "teams = set()\n",
    "\n",
    "# lecture de tous les fichiers\n",
    "for file in input_files:\n",
    "    with open(file, newline='', encoding=\"utf-8\") as f:\n",
    "        reader = csv.DictReader(f)\n",
    "        for row in reader:\n",
    "            team = row[\"Equipe\"].strip()\n",
    "            if team:\n",
    "                teams.add(team)\n",
    "\n",
    "# écriture du fichier fusionné\n",
    "with open(output_file, \"w\", newline='', encoding=\"utf-8\") as f:\n",
    "    writer = csv.writer(f)\n",
    "    writer.writerow([\"Equipe\"])  # en-tête\n",
    "    for team in sorted(teams):\n",
    "        writer.writerow([team])\n",
    "\n",
    "print(f\"Fichier {output_file} créé avec {len(teams)} équipes uniques.\")\n"
   ]
  },
  {
   "cell_type": "code",
   "execution_count": null,
   "id": "35cc9a84",
   "metadata": {},
   "outputs": [],
   "source": []
  }
 ],
 "metadata": {
  "kernelspec": {
   "display_name": "Python 3",
   "language": "python",
   "name": "python3"
  },
  "language_info": {
   "codemirror_mode": {
    "name": "ipython",
    "version": 3
   },
   "file_extension": ".py",
   "mimetype": "text/x-python",
   "name": "python",
   "nbconvert_exporter": "python",
   "pygments_lexer": "ipython3",
   "version": "3.13.5"
  }
 },
 "nbformat": 4,
 "nbformat_minor": 5
}
