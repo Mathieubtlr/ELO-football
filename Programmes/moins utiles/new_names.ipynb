{
 "cells": [
  {
   "cell_type": "code",
   "execution_count": null,
   "id": "64984e6a",
   "metadata": {},
   "outputs": [
    {
     "name": "stdout",
     "output_type": "stream",
     "text": [
      "Fichier mis à jour : C:\\1_Programmes Python\\Statistiques\\Classement Elo foot\\New version\\Résultats\\1997-1998_all.csv\n",
      "Fichier mis à jour : C:\\1_Programmes Python\\Statistiques\\Classement Elo foot\\New version\\Résultats\\1998-1999_all.csv\n",
      "Fichier mis à jour : C:\\1_Programmes Python\\Statistiques\\Classement Elo foot\\New version\\Résultats\\1999-2000_all.csv\n",
      "Fichier mis à jour : C:\\1_Programmes Python\\Statistiques\\Classement Elo foot\\New version\\Résultats\\2000-2001_all.csv\n",
      "Fichier mis à jour : C:\\1_Programmes Python\\Statistiques\\Classement Elo foot\\New version\\Résultats\\2001-2002_all.csv\n",
      "Fichier mis à jour : C:\\1_Programmes Python\\Statistiques\\Classement Elo foot\\New version\\Résultats\\2002-2003_all.csv\n",
      "Fichier mis à jour : C:\\1_Programmes Python\\Statistiques\\Classement Elo foot\\New version\\Résultats\\2003-2004_all.csv\n",
      "Fichier mis à jour : C:\\1_Programmes Python\\Statistiques\\Classement Elo foot\\New version\\Résultats\\2004-2005_all.csv\n",
      "Fichier mis à jour : C:\\1_Programmes Python\\Statistiques\\Classement Elo foot\\New version\\Résultats\\2005-2006_all.csv\n",
      "Fichier mis à jour : C:\\1_Programmes Python\\Statistiques\\Classement Elo foot\\New version\\Résultats\\2006-2007_all.csv\n",
      "Fichier mis à jour : C:\\1_Programmes Python\\Statistiques\\Classement Elo foot\\New version\\Résultats\\2007-2008_all.csv\n",
      "Fichier mis à jour : C:\\1_Programmes Python\\Statistiques\\Classement Elo foot\\New version\\Résultats\\2008-2009_all.csv\n",
      "Fichier mis à jour : C:\\1_Programmes Python\\Statistiques\\Classement Elo foot\\New version\\Résultats\\2009-2010_all.csv\n",
      "Fichier mis à jour : C:\\1_Programmes Python\\Statistiques\\Classement Elo foot\\New version\\Résultats\\2010-2011_all.csv\n",
      "Fichier mis à jour : C:\\1_Programmes Python\\Statistiques\\Classement Elo foot\\New version\\Résultats\\2011-2012_all.csv\n",
      "Fichier mis à jour : C:\\1_Programmes Python\\Statistiques\\Classement Elo foot\\New version\\Résultats\\2012-2013_all.csv\n",
      "Fichier mis à jour : C:\\1_Programmes Python\\Statistiques\\Classement Elo foot\\New version\\Résultats\\2013-2014_all.csv\n",
      "Fichier mis à jour : C:\\1_Programmes Python\\Statistiques\\Classement Elo foot\\New version\\Résultats\\2014-2015_all.csv\n",
      "Fichier mis à jour : C:\\1_Programmes Python\\Statistiques\\Classement Elo foot\\New version\\Résultats\\2015-2016_all.csv\n",
      "Fichier mis à jour : C:\\1_Programmes Python\\Statistiques\\Classement Elo foot\\New version\\Résultats\\2016-2017_all.csv\n",
      "Fichier mis à jour : C:\\1_Programmes Python\\Statistiques\\Classement Elo foot\\New version\\Résultats\\2017-2018_all.csv\n",
      "Fichier mis à jour : C:\\1_Programmes Python\\Statistiques\\Classement Elo foot\\New version\\Résultats\\2018-2019_all.csv\n",
      "Fichier mis à jour : C:\\1_Programmes Python\\Statistiques\\Classement Elo foot\\New version\\Résultats\\2019-2020_all.csv\n",
      "Fichier mis à jour : C:\\1_Programmes Python\\Statistiques\\Classement Elo foot\\New version\\Résultats\\2020-2021_all.csv\n",
      "Fichier mis à jour : C:\\1_Programmes Python\\Statistiques\\Classement Elo foot\\New version\\Résultats\\2021-2022_all.csv\n",
      "Fichier mis à jour : C:\\1_Programmes Python\\Statistiques\\Classement Elo foot\\New version\\Résultats\\2022-2023_all.csv\n",
      "Fichier mis à jour : C:\\1_Programmes Python\\Statistiques\\Classement Elo foot\\New version\\Résultats\\2023-2024_all.csv\n",
      "Fichier mis à jour : C:\\1_Programmes Python\\Statistiques\\Classement Elo foot\\New version\\Résultats\\2024-2025_all.csv\n",
      "Fichier mis à jour : C:\\1_Programmes Python\\Statistiques\\Classement Elo foot\\New version\\Résultats\\2025-2026_all.csv\n"
     ]
    }
   ],
   "source": [
    "import csv\n",
    "import os\n",
    "import glob\n",
    "\n",
    "# Dictionnaire des anciens noms vers nouveaux noms\n",
    "renommage_equipes = {\n",
    "\n",
    "\n",
    "    \n",
    "  #\"ancien_name\":\"nouveau_name\",\n",
    "    \n",
    "    \n",
    "    \n",
    "}\n",
    "\n",
    "def remplacer_nom_equipe(nom_equipe):\n",
    "    \"\"\"Remplace un nom d'équipe par son nouveau nom si présent dans le dictionnaire.\"\"\"\n",
    "    return renommage_equipes.get(nom_equipe, nom_equipe)\n",
    "\n",
    "def mettre_a_jour_csv(fichier_csv, dossier_sortie):\n",
    "    \"\"\"Lit un fichier CSV, remplace les noms d'équipes et écrit le résultat dans un nouveau fichier.\"\"\"\n",
    "    nom_fichier = os.path.basename(fichier_csv)\n",
    "    fichier_sortie = os.path.join(dossier_sortie, nom_fichier)\n",
    "\n",
    "    with open(fichier_csv, newline='', encoding='utf-8') as csv_in, \\\n",
    "         open(fichier_sortie, 'w', newline='', encoding='utf-8') as csv_out:\n",
    "\n",
    "        lecteur = csv.reader(csv_in)\n",
    "        ecrivain = csv.writer(csv_out)\n",
    "\n",
    "        for ligne in lecteur:\n",
    "            # Supposons que l'équipe 1 est en colonne 3 et équipe 2 en colonne 4\n",
    "            ligne[3] = remplacer_nom_equipe(ligne[3])\n",
    "            ligne[4] = remplacer_nom_equipe(ligne[4])\n",
    "            ecrivain.writerow(ligne)\n",
    "\n",
    "def traiter_tous_les_csv(dossier_entree, dossier_sortie, pattern=\"*_all.csv\"):\n",
    "    \"\"\"Traite tous les fichiers CSV d'un dossier et les enregistre dans un dossier de sortie.\"\"\"\n",
    "    os.makedirs(dossier_sortie, exist_ok=True)\n",
    "    fichiers = glob.glob(os.path.join(dossier_entree, pattern))\n",
    "\n",
    "    for fichier in fichiers:\n",
    "        mettre_a_jour_csv(fichier, dossier_sortie)\n",
    "        print(f\"Fichier mis à jour : {fichier}\")\n",
    "\n",
    "# Exemple d'utilisation\n",
    "dossier_entree = \"C:\\\\1_Programmes Python\\\\Statistiques\\\\Classement Elo foot\\\\New version\\\\Résultats\"       # dossier contenant les fichiers d'origine\n",
    "dossier_sortie = \"NEWR\"           # dossier où seront sauvegardés les fichiers mis à jour\n",
    "traiter_tous_les_csv(dossier_entree, dossier_sortie)\n"
   ]
  }
 ],
 "metadata": {
  "kernelspec": {
   "display_name": "Python 3",
   "language": "python",
   "name": "python3"
  },
  "language_info": {
   "codemirror_mode": {
    "name": "ipython",
    "version": 3
   },
   "file_extension": ".py",
   "mimetype": "text/x-python",
   "name": "python",
   "nbconvert_exporter": "python",
   "pygments_lexer": "ipython3",
   "version": "3.13.5"
  }
 },
 "nbformat": 4,
 "nbformat_minor": 5
}
