{
 "cells": [
  {
   "cell_type": "code",
   "execution_count": 1,
   "id": "15021b3e",
   "metadata": {},
   "outputs": [],
   "source": [
    "import csv\n",
    "\n",
    "INPUT_FILE = \"C:\\\\1_Programmes Python\\\\Statistiques\\\\Classement Elo foot\\\\New version\\\\Elo\\\\ratings_over_time.csv\"\n",
    "OUTPUT_FILE = \"C:\\\\1_Programmes Python\\\\Statistiques\\\\Classement Elo foot\\\\New version\\\\Elo\\\\ratings_timeseries.csv\"\n",
    "\n",
    "def convert_to_timeseries(input_file, output_file):\n",
    "    # Lire toutes les lignes et récupérer la liste des équipes\n",
    "    all_teams = set()\n",
    "    rows = []\n",
    "    with open(input_file, newline='', encoding=\"utf-8\") as f:\n",
    "        reader = csv.DictReader(f)\n",
    "        for row in reader:\n",
    "            date = row[\"date\"]\n",
    "            home = row[\"home_team\"]\n",
    "            away = row[\"away_team\"]\n",
    "            home_after = float(row[\"home_after\"]) if row[\"home_after\"] else None\n",
    "            away_after = float(row[\"away_after\"]) if row[\"away_after\"] else None\n",
    "\n",
    "            all_teams.add(home)\n",
    "            all_teams.add(away)\n",
    "\n",
    "            rows.append((date, home, away, home_after, away_after))\n",
    "\n",
    "    all_teams = sorted(all_teams)\n",
    "\n",
    "    # Dernier rating connu\n",
    "    last_known = {team: \"\" for team in all_teams}\n",
    "\n",
    "    # Écriture fichier\n",
    "    with open(output_file, \"w\", newline='', encoding=\"utf-8\") as f:\n",
    "        writer = csv.writer(f)\n",
    "        header = [\"date\"] + all_teams\n",
    "        writer.writerow(header)\n",
    "\n",
    "        for date, home, away, home_after, away_after in rows:\n",
    "            # mettre à jour uniquement les 2 équipes concernées\n",
    "            if home_after is not None:\n",
    "                last_known[home] = home_after\n",
    "            if away_after is not None:\n",
    "                last_known[away] = away_after\n",
    "\n",
    "            # snapshot complet du classement à ce moment précis\n",
    "            row = [date] + [last_known[team] for team in all_teams]\n",
    "            writer.writerow(row)\n",
    "\n",
    "if __name__ == \"__main__\":\n",
    "    convert_to_timeseries(INPUT_FILE, OUTPUT_FILE)\n"
   ]
  },
  {
   "cell_type": "code",
   "execution_count": null,
   "id": "e61991c0",
   "metadata": {},
   "outputs": [],
   "source": []
  }
 ],
 "metadata": {
  "kernelspec": {
   "display_name": "Python 3",
   "language": "python",
   "name": "python3"
  },
  "language_info": {
   "codemirror_mode": {
    "name": "ipython",
    "version": 3
   },
   "file_extension": ".py",
   "mimetype": "text/x-python",
   "name": "python",
   "nbconvert_exporter": "python",
   "pygments_lexer": "ipython3",
   "version": "3.13.5"
  }
 },
 "nbformat": 4,
 "nbformat_minor": 5
}
