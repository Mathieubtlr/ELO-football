{
 "cells": [
  {
   "cell_type": "code",
   "execution_count": 1,
   "id": "5f20e2f8",
   "metadata": {},
   "outputs": [],
   "source": [
    "import pandas as pd\n",
    "import glob\n",
    "\n",
    "# chemin vers les fichiers (à adapter si besoin)\n",
    "dossier = \"C:\\\\1_Programmes Python\\\\Statistiques\\\\Classement Elo foot\\\\New version\\\\Résultats\\\\\"\n",
    "fichiers = glob.glob(dossier + \"*.csv\")  # suppose que tes fichiers sont en .csv et dans le même dossier\n",
    "\n",
    "# lire et concaténer\n",
    "df = pd.concat((pd.read_csv(f, header=None) for f in fichiers), ignore_index=True)\n",
    "\n",
    "# nommer les colonnes\n",
    "df.columns = [\"date\", \"competition\", \"journee\", \"equipe_dom\", \"equipe_ext\", \"buts_dom\", \"buts_ext\"]\n",
    "\n",
    "# transformer la date en format datetime pour trier\n",
    "df[\"date\"] = pd.to_datetime(df[\"date\"], format=\"%Y-%m-%d\")\n",
    "\n",
    "# trier par date\n",
    "df = df.sort_values(\"date\").reset_index(drop=True)\n",
    "\n",
    "# sauvegarder dans un seul fichier\n",
    "df.to_csv(\"C:\\\\1_Programmes Python\\\\Statistiques\\\\Classement Elo foot\\\\New version\\\\Résultats\\\\all_results\\\\resultats_1997_2026.csv\", index=False)\n"
   ]
  },
  {
   "cell_type": "code",
   "execution_count": null,
   "id": "097b38f7",
   "metadata": {},
   "outputs": [],
   "source": []
  }
 ],
 "metadata": {
  "kernelspec": {
   "display_name": "Python 3",
   "language": "python",
   "name": "python3"
  },
  "language_info": {
   "codemirror_mode": {
    "name": "ipython",
    "version": 3
   },
   "file_extension": ".py",
   "mimetype": "text/x-python",
   "name": "python",
   "nbconvert_exporter": "python",
   "pygments_lexer": "ipython3",
   "version": "3.13.5"
  }
 },
 "nbformat": 4,
 "nbformat_minor": 5
}
